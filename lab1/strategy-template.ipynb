{
 "cells": [
  {
   "cell_type": "code",
   "execution_count": null,
   "metadata": {},
   "outputs": [],
   "source": [
    "class car_sedan:\n",
    "    def __init__(self, weight, length, passangers, cargo):\n",
    "        self.weight = weight\n",
    "        self.length = length\n",
    "        self.passangers = passangers\n",
    "        self.cargo = cargo\n",
    "\n",
    "    def getmaxspeed(self):\n",
    "        speed = 100/(self.weight + self.length)"
   ]
  },
  {
   "cell_type": "code",
   "execution_count": null,
   "metadata": {},
   "outputs": [],
   "source": [
    "class car_truck:\n",
    "    def __init__(self, weight, length, passangers, cargo):\n",
    "        self.weight = weight\n",
    "        self.length = length\n",
    "        self.passangers = passangers\n",
    "        self.cargo = cargo + 6*3\n",
    "\n",
    "    def getmaxspeed(self):\n",
    "        speed = 100/(self.weight + self.length)\n"
   ]
  },
  {
   "cell_type": "code",
   "execution_count": null,
   "metadata": {},
   "outputs": [],
   "source": [
    "class car_bus:\n",
    "    def __init__(self, weight, length, passangers, cargo):\n",
    "        self.weight = weight\n",
    "        self.length = length\n",
    "        self.passangers = passangers\n",
    "        self.cargo = cargo * 3\n",
    "\n",
    "    def getmaxspeed(self):\n",
    "        speed = 75/(self.weight + self.length)"
   ]
  },
  {
   "cell_type": "code",
   "execution_count": null,
   "metadata": {},
   "outputs": [],
   "source": [
    "bus = car_bus(5000, 10, 40, 40)\n",
    "sedan = car_sedan(1000, 3, 5, 3)\n",
    "truck = car_truck(2000, 3.2, 3, 0)"
   ]
  },
  {
   "cell_type": "code",
   "execution_count": 7,
   "metadata": {},
   "outputs": [],
   "source": [
    "import numpy as np\n",
    "class words:\n",
    "    def __init__(self):\n",
    "        self.wordarr = []\n",
    "        self.sourcestr = []\n",
    "\n",
    "    def readstring(self, string):\n",
    "        self.sourcestr = string\n",
    "\n",
    "    def divideby(self, divider):\n",
    "        if divider == \" \":\n",
    "            self.divider = diviser1\n",
    "\n",
    "        if divider == \",\":\n",
    "            self.divider = diviser2\n",
    "\n",
    "        if divider == \";\":\n",
    "            self.divider = diviser3\n",
    "\n",
    "\n",
    "    def divide(self):\n",
    "        self.wordarr = self.divider.divide(self.sourcestr)"
   ]
  },
  {
   "cell_type": "code",
   "execution_count": 1,
   "metadata": {},
   "outputs": [],
   "source": [
    "class diviser1:\n",
    "    def divide(string):\n",
    "        arr = string.split(\" \")\n",
    "        return arr\n",
    "\n",
    "class diviser2:\n",
    "    def divide(string):\n",
    "        arr = string.split(\",\")\n",
    "        return arr\n",
    "\n",
    "class diviser3:\n",
    "    def divide(string):\n",
    "        arr = string.split(\";\")\n",
    "        return arr"
   ]
  },
  {
   "cell_type": "code",
   "execution_count": 8,
   "metadata": {},
   "outputs": [
    {
     "name": "stdout",
     "output_type": "stream",
     "text": [
      "['aaa', 'bbb']\n"
     ]
    }
   ],
   "source": [
    "a = words()\n",
    "\n",
    "a.readstring(\"aaa;bbb\")\n",
    "a.divideby(\";\")\n",
    "a.divide()\n",
    "print(a.wordarr)"
   ]
  }
 ],
 "metadata": {
  "kernelspec": {
   "display_name": "Python 3.10.7 64-bit",
   "language": "python",
   "name": "python3"
  },
  "language_info": {
   "codemirror_mode": {
    "name": "ipython",
    "version": 3
   },
   "file_extension": ".py",
   "mimetype": "text/x-python",
   "name": "python",
   "nbconvert_exporter": "python",
   "pygments_lexer": "ipython3",
   "version": "3.10.7"
  },
  "orig_nbformat": 4,
  "vscode": {
   "interpreter": {
    "hash": "369f2c481f4da34e4445cda3fffd2e751bd1c4d706f27375911949ba6bb62e1c"
   }
  }
 },
 "nbformat": 4,
 "nbformat_minor": 2
}
