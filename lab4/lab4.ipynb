{
 "cells": [
  {
   "cell_type": "code",
   "execution_count": 78,
   "metadata": {},
   "outputs": [],
   "source": [
    "import numpy as np\n",
    "import random\n",
    "import os"
   ]
  },
  {
   "cell_type": "code",
   "execution_count": 79,
   "metadata": {},
   "outputs": [],
   "source": [
    "class printable:\n",
    "    def addstr(self, str):\n",
    "        self.toprint = str\n",
    "\n",
    "    def __str__(self):\n",
    "        return self.toprint\n"
   ]
  },
  {
   "cell_type": "code",
   "execution_count": 80,
   "metadata": {},
   "outputs": [],
   "source": [
    "class non_printable:\n",
    "    def __init__(self):\n",
    "        self.val = random.randint(0,100)"
   ]
  },
  {
   "cell_type": "code",
   "execution_count": 81,
   "metadata": {},
   "outputs": [],
   "source": [
    "class nonprintadapter:\n",
    "    def adapt(non_printable, printable):\n",
    "        localstr = str(non_printable.val)\n",
    "        printable.addstr(localstr)\n",
    "        return printable"
   ]
  },
  {
   "cell_type": "code",
   "execution_count": 82,
   "metadata": {},
   "outputs": [
    {
     "name": "stdout",
     "output_type": "stream",
     "text": [
      "66\n"
     ]
    }
   ],
   "source": [
    "adapter = nonprintadapter\n",
    "newnp = non_printable()\n",
    "thing = printable()\n",
    "thing = adapter.adapt(newnp, thing)\n",
    "print(thing)"
   ]
  },
  {
   "cell_type": "code",
   "execution_count": 109,
   "metadata": {},
   "outputs": [],
   "source": [
    "class road:\n",
    "    def __init__(self, n):\n",
    "        self.cars = []\n",
    "        self.x = n\n",
    "\n",
    "    def addcar(self, car):\n",
    "        self.cars.append(car)\n",
    "\n",
    "    def calcmove(self):\n",
    "        #os.system(\"clear\")\n",
    "        j = 0\n",
    "        for car in self.cars:\n",
    "            car.pos += car.speed\n",
    "            #print (\"car\", j, \"pos = \", car.pos)\n",
    "            j+= 1\n",
    "        self.calcovertake()\n",
    "\n",
    "    \n",
    "    def calcovertake(self):\n",
    "        for i in range(len(self.cars)):\n",
    "            self.cars[i].speedup()\n",
    "            for j in range(0, i):\n",
    "                if ((0 < (self.cars[j].pos - self.cars[i].pos) < self.cars[i].speed)\n",
    "                    and (self.cars[i].lane == self.cars[j].lane)):\n",
    "                    if self.cars[i].lane == 0:\n",
    "                        self.cars[i].changelanes()\n",
    "                        print(\"car\", i, \"overtake\")\n",
    "                    else:\n",
    "                        self.cars[i].slowdown(self.cars[j].speed)\n",
    "                        print(\"car\", i, \"slowdown\")\n",
    "\n",
    "            for j in range(i+1, len(self.cars)):\n",
    "                if ((0 < (self.cars[j].pos - self.cars[i].pos) < self.cars[i].speed)\n",
    "                    and (self.cars[i].lane != self.cars[j].lane)):\n",
    "                    if self.cars[i].lane == 0:\n",
    "                        self.cars[i].changelanes()\n",
    "                        print(\"car\", i, \"overtake\")\n",
    "                    else:\n",
    "                        self.cars[i].slowdown(self.cars[j].speed)\n",
    "                        print(\"car\", i, \"slowdown\")\n",
    "\n",
    "\n",
    "\n"
   ]
  },
  {
   "cell_type": "code",
   "execution_count": 110,
   "metadata": {},
   "outputs": [],
   "source": [
    "class car:\n",
    "    def __init__(self, speed):\n",
    "        self.lane = 0\n",
    "        self.speed = speed\n",
    "        self.desired_speed = speed\n",
    "        self.pos = 0\n",
    "    \n",
    "    def changelanes(self):\n",
    "        #плохой код, но должен работа\n",
    "        self.lane += 1\n",
    "        if self.lane >= 2:\n",
    "            self.lane = 0\n",
    "\n",
    "    def slowdown(self, speed):\n",
    "        self.speed = speed\n",
    "\n",
    "    def speedup(self):\n",
    "        self.speed = self.desired_speed\n"
   ]
  },
  {
   "cell_type": "code",
   "execution_count": 111,
   "metadata": {},
   "outputs": [
    {
     "name": "stdout",
     "output_type": "stream",
     "text": [
      "car 1 overtake\n",
      "car 0 overtake\n"
     ]
    },
    {
     "ename": "KeyboardInterrupt",
     "evalue": "",
     "output_type": "error",
     "traceback": [
      "\u001b[1;31m---------------------------------------------------------------------------\u001b[0m",
      "\u001b[1;31mKeyboardInterrupt\u001b[0m                         Traceback (most recent call last)",
      "Cell \u001b[1;32mIn [111], line 20\u001b[0m\n\u001b[0;32m     17\u001b[0m     road\u001b[39m.\u001b[39mcalcmove()\n\u001b[0;32m     19\u001b[0m \u001b[39mwhile\u001b[39;00m \u001b[39mTrue\u001b[39;00m:\n\u001b[1;32m---> 20\u001b[0m     road\u001b[39m.\u001b[39;49mcalcmove()\n",
      "Cell \u001b[1;32mIn [109], line 9\u001b[0m, in \u001b[0;36mroad.calcmove\u001b[1;34m(self)\u001b[0m\n\u001b[0;32m      6\u001b[0m \u001b[39mdef\u001b[39;00m \u001b[39maddcar\u001b[39m(\u001b[39mself\u001b[39m, car):\n\u001b[0;32m      7\u001b[0m     \u001b[39mself\u001b[39m\u001b[39m.\u001b[39mcars\u001b[39m.\u001b[39mappend(car)\n\u001b[1;32m----> 9\u001b[0m \u001b[39mdef\u001b[39;00m \u001b[39mcalcmove\u001b[39m(\u001b[39mself\u001b[39m):\n\u001b[0;32m     10\u001b[0m     \u001b[39m#os.system(\"clear\")\u001b[39;00m\n\u001b[0;32m     11\u001b[0m     j \u001b[39m=\u001b[39m \u001b[39m0\u001b[39m\n\u001b[0;32m     12\u001b[0m     \u001b[39mfor\u001b[39;00m car \u001b[39min\u001b[39;00m \u001b[39mself\u001b[39m\u001b[39m.\u001b[39mcars:\n",
      "\u001b[1;31mKeyboardInterrupt\u001b[0m: "
     ]
    }
   ],
   "source": [
    "car1 = car(100)\n",
    "car2 = car(90)\n",
    "car3 = car(50)\n",
    "\n",
    "road = road(1)\n",
    "'''\n",
    "road.addcar(car3)\n",
    "for i in range(1):\n",
    "    road.calcmove()\n",
    "'''\n",
    "road.addcar(car3)\n",
    "for i in range(1):\n",
    "    road.calcmove()\n",
    "\n",
    "road.addcar(car2)\n",
    "for i in range(1):\n",
    "    road.calcmove()\n",
    "\n",
    "while True:\n",
    "    road.calcmove()"
   ]
  }
 ],
 "metadata": {
  "kernelspec": {
   "display_name": "Python 3.10.7 64-bit",
   "language": "python",
   "name": "python3"
  },
  "language_info": {
   "codemirror_mode": {
    "name": "ipython",
    "version": 3
   },
   "file_extension": ".py",
   "mimetype": "text/x-python",
   "name": "python",
   "nbconvert_exporter": "python",
   "pygments_lexer": "ipython3",
   "version": "3.10.7"
  },
  "orig_nbformat": 4,
  "vscode": {
   "interpreter": {
    "hash": "369f2c481f4da34e4445cda3fffd2e751bd1c4d706f27375911949ba6bb62e1c"
   }
  }
 },
 "nbformat": 4,
 "nbformat_minor": 2
}
